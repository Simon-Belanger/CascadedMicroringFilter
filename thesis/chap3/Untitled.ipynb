{
 "cells": [
  {
   "cell_type": "markdown",
   "metadata": {},
   "source": [
    "For computing the feasible region of the optimisation problem."
   ]
  },
  {
   "cell_type": "code",
   "execution_count": 40,
   "metadata": {},
   "outputs": [
    {
     "name": "stdout",
     "output_type": "stream",
     "text": [
      "{y1: k*x2 + x1, y2: k*x1 + x2}\n",
      "0 0\n",
      "a2*k a2\n",
      "a1 a1*k\n",
      "a1 + a2*k a1*k + a2\n",
      "[-k*y1 + y2]\n"
     ]
    }
   ],
   "source": [
    "import sympy\n",
    "sympy.init_printing()\n",
    "\n",
    "x1, x2, y1, y2, k, a1, a2, b = sympy.symbols(('x1', 'x2', 'y1', 'y2', 'k', 'a1', 'a2', 'b'))\n",
    "eq1 = sympy.Eq(y1 - x1 -k*x2, 0)\n",
    "eq2 = sympy.Eq(y2 - k*x1 - x2, 0)\n",
    "\n",
    "eq = sympy.solve([eq1, eq2], [y1, y2])\n",
    "print(eq)\n",
    "\n",
    "# Intersection points\n",
    "print(eq[y1].subs([(x1,0), (x2,0)]), eq[y2].subs([(x1,0), (x2,0)]))\n",
    "print(eq[y1].subs([(x1,0), (x2,a2)]), eq[y2].subs([(x1,0), (x2,a2)]))\n",
    "print(eq[y1].subs([(x1,a1), (x2,0)]), eq[y2].subs([(x1,a1), (x2,0)]))\n",
    "print(eq[y1].subs([(x1,a1), (x2,a2)]), eq[y2].subs([(x1,a1), (x2,a2)]))\n",
    "\n",
    "# Lines\n",
    "eq3 = sympy.Eq(y2 - k*y1 - b, 0)\n",
    "eq = sympy.solve(eq3, b)\n",
    "eq[0].subs([(y1, (a1 + a2*k)), (y2,a1*k + a2)])\n",
    "print(eq)\n",
    "\n"
   ]
  }
 ],
 "metadata": {
  "kernelspec": {
   "display_name": "Python 3",
   "language": "python",
   "name": "python3"
  },
  "language_info": {
   "codemirror_mode": {
    "name": "ipython",
    "version": 3
   },
   "file_extension": ".py",
   "mimetype": "text/x-python",
   "name": "python",
   "nbconvert_exporter": "python",
   "pygments_lexer": "ipython3",
   "version": "3.8.5"
  }
 },
 "nbformat": 4,
 "nbformat_minor": 4
}
